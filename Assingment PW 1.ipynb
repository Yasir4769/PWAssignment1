{
 "cells": [
  {
   "cell_type": "code",
   "execution_count": 76,
   "id": "4f523fa3-c339-462f-9930-2578927cc3be",
   "metadata": {},
   "outputs": [],
   "source": [
    "\"\"\"1. Declare two variables, `x` and `y`, and assign them integer values. \n",
    "Swap the values of these variables without using any temporary variable.\n",
    "\"\"\"\n",
    "x = 5\n",
    "y = 10"
   ]
  },
  {
   "cell_type": "code",
   "execution_count": 77,
   "id": "ddc9dec4-2a6a-4970-8fdb-b42fa67d7a96",
   "metadata": {},
   "outputs": [],
   "source": [
    "x = x + y # x=15\n",
    "y = x - y # y=5\n",
    "x = x - y # x=10"
   ]
  },
  {
   "cell_type": "code",
   "execution_count": 78,
   "id": "fa62d8bd-0cef-4d4f-803c-ebd1965c8ef6",
   "metadata": {},
   "outputs": [
    {
     "name": "stdout",
     "output_type": "stream",
     "text": [
      "The swap values are x=10 and y=5.\n"
     ]
    }
   ],
   "source": [
    "print(f\"The swap values are x={x} and y={y}.\")"
   ]
  },
  {
   "cell_type": "code",
   "execution_count": null,
   "id": "7ef6d4d3-e1df-4cf8-a47d-8889a7ba2761",
   "metadata": {},
   "outputs": [],
   "source": []
  },
  {
   "cell_type": "code",
   "execution_count": 19,
   "id": "3f1a0312-d1d1-477a-ae12-5cfef6414682",
   "metadata": {},
   "outputs": [
    {
     "name": "stdin",
     "output_type": "stream",
     "text": [
      "Enter the length:   12\n",
      "Enter the width:   14\n"
     ]
    }
   ],
   "source": [
    "\"\"\"2. Create a program that calculates the area of a rectangle. Take the length and\n",
    "width as inputs from the user and store them in variables. Calculate and\n",
    "display the area.\n",
    "\"\"\"\n",
    "length = int(input(\"Enter the length:  \"))\n",
    "Width = int(input(\"Enter the width:  \"))"
   ]
  },
  {
   "cell_type": "code",
   "execution_count": 21,
   "id": "a4ab1e2c-952e-4c39-8987-6d78c682c5d4",
   "metadata": {},
   "outputs": [
    {
     "name": "stdout",
     "output_type": "stream",
     "text": [
      "Area of the rectangle is 168.\n"
     ]
    }
   ],
   "source": [
    "Area = length*Width\n",
    "print(f\"Area of the rectangle is {Area}.\")"
   ]
  },
  {
   "cell_type": "code",
   "execution_count": null,
   "id": "531ebd88-6cc3-4a3d-af98-1569c5e7f8c8",
   "metadata": {},
   "outputs": [],
   "source": []
  },
  {
   "cell_type": "code",
   "execution_count": 29,
   "id": "9cd3591b-1094-4436-b1b5-d5e28548975a",
   "metadata": {},
   "outputs": [
    {
     "name": "stdin",
     "output_type": "stream",
     "text": [
      "Enter the Celsius Temp:   98\n"
     ]
    }
   ],
   "source": [
    "\"\"\"3. Write a Python program that converts temperatures from Celsius to\n",
    "Fahrenheit. Take the temperature in Celsius as input, store it in a variable,\n",
    "convert it to Fahrenheit, and display the result.\n",
    "\"\"\"\n",
    "#°F = (°C x 1.8) + 32\n",
    "Celsius_Temp = int(input(\"Enter the Celsius Temp:  \"))"
   ]
  },
  {
   "cell_type": "code",
   "execution_count": 34,
   "id": "4feec5fe-70c4-47e5-b23e-88b12bf0974d",
   "metadata": {},
   "outputs": [
    {
     "name": "stdout",
     "output_type": "stream",
     "text": [
      "The Temperature in Fahrenheit is 208.4.\n"
     ]
    }
   ],
   "source": [
    "Fahrenheit_Temp = (Celsius_Temp*1.8) + 32\n",
    "print(f\"The Temperature in Fahrenheit is {Fahrenheit_Temp}.\")"
   ]
  },
  {
   "cell_type": "code",
   "execution_count": null,
   "id": "42f1095a-a51d-44f7-b0fb-256b1e72433e",
   "metadata": {},
   "outputs": [],
   "source": []
  },
  {
   "cell_type": "code",
   "execution_count": 35,
   "id": "0b156f13-5bf5-43b5-92cc-ad960ff299af",
   "metadata": {},
   "outputs": [],
   "source": [
    "# TOPIC: String Based Questions"
   ]
  },
  {
   "cell_type": "code",
   "execution_count": 79,
   "id": "80a45cdc-6364-443e-9001-2c29ee4afef5",
   "metadata": {},
   "outputs": [
    {
     "name": "stdin",
     "output_type": "stream",
     "text": [
      "Enter your name:   Mohammad Yasir\n"
     ]
    }
   ],
   "source": [
    "\"\"\"1. Write a Python program that takes a string as input and prints the length of\n",
    "the string.\n",
    "\"\"\"\n",
    "Name = str(input(\"Enter your name:  \"))"
   ]
  },
  {
   "cell_type": "code",
   "execution_count": 81,
   "id": "8c986241-40e3-4138-a477-14426c08459a",
   "metadata": {},
   "outputs": [
    {
     "name": "stdout",
     "output_type": "stream",
     "text": [
      "The length of the string is 14.\n"
     ]
    }
   ],
   "source": [
    "print(f\"The length of the string is {len(Name)}.\")"
   ]
  },
  {
   "cell_type": "code",
   "execution_count": null,
   "id": "a0a18516-c6ac-4dbf-b0c5-c35861116379",
   "metadata": {},
   "outputs": [],
   "source": []
  },
  {
   "cell_type": "code",
   "execution_count": 2,
   "id": "37b20d1c-d917-4361-b4c4-4fdc50a67259",
   "metadata": {},
   "outputs": [
    {
     "name": "stdin",
     "output_type": "stream",
     "text": [
      "Where do you live:  Roorkee City\n"
     ]
    }
   ],
   "source": [
    "\"\"\"2. Create a program that takes a sentence from the user and counts the number\n",
    "of vowels (a, e, i, o, u) in the string.\n",
    "\"\"\"\n",
    "Vowels_count = str(input(\"Where do you live: \"))\n",
    "vowels = 'aeiouAEIOU'"
   ]
  },
  {
   "cell_type": "code",
   "execution_count": 3,
   "id": "f3a4e63c-3aea-467c-aa53-0e14cb4245f0",
   "metadata": {},
   "outputs": [
    {
     "name": "stdout",
     "output_type": "stream",
     "text": [
      "5\n"
     ]
    }
   ],
   "source": [
    "count = sum(Vowels_count.count(vowel) for vowel in vowels)\n",
    "print(count)"
   ]
  },
  {
   "cell_type": "code",
   "execution_count": null,
   "id": "00af15e8-116c-4a5b-b787-66d8402599ef",
   "metadata": {},
   "outputs": [],
   "source": []
  },
  {
   "cell_type": "code",
   "execution_count": 4,
   "id": "7262065d-9d05-4b5c-b200-099251b39890",
   "metadata": {},
   "outputs": [],
   "source": [
    "\"\"\"3. Given a string, reverse the order of characters using string slicing and print\n",
    "the reversed string.\n",
    "\"\"\"\n",
    "Name = \"Mohd Yasir\""
   ]
  },
  {
   "cell_type": "code",
   "execution_count": 5,
   "id": "fc312e8a-a3a0-495b-965c-d10bc4397d07",
   "metadata": {},
   "outputs": [
    {
     "name": "stdout",
     "output_type": "stream",
     "text": [
      "The reverse order after slicing is risaY dhoM\n"
     ]
    }
   ],
   "source": [
    "print(f\"The reverse order after slicing is {Name[::-1]}\")"
   ]
  },
  {
   "cell_type": "code",
   "execution_count": null,
   "id": "a96fb6f3-0428-4911-8141-95decb1e9251",
   "metadata": {},
   "outputs": [],
   "source": []
  },
  {
   "cell_type": "code",
   "execution_count": 6,
   "id": "ffe7b0e5-c54a-4de4-a095-976b40666de4",
   "metadata": {},
   "outputs": [
    {
     "name": "stdin",
     "output_type": "stream",
     "text": [
      "Enter the word:  radar\n"
     ]
    }
   ],
   "source": [
    "\"\"\"4. Write a program that takes a string as input and checks if it is a palindrome\n",
    "(reads the same forwards and backwards).\n",
    "\"\"\"\n",
    "word = str(input(\"Enter the word: \"))"
   ]
  },
  {
   "cell_type": "code",
   "execution_count": 7,
   "id": "706f9cbc-8c6a-47bb-8cc0-927f06eab096",
   "metadata": {},
   "outputs": [
    {
     "name": "stdout",
     "output_type": "stream",
     "text": [
      "The reverse order is radar\n"
     ]
    }
   ],
   "source": [
    "print(f\"The reverse order is {word[::-1]}\")"
   ]
  },
  {
   "cell_type": "code",
   "execution_count": null,
   "id": "859e70cf-95b2-4702-89e5-df612b560279",
   "metadata": {},
   "outputs": [],
   "source": []
  },
  {
   "cell_type": "code",
   "execution_count": 10,
   "id": "95815855-2da7-438f-b513-93db39fd7b3f",
   "metadata": {},
   "outputs": [
    {
     "name": "stdin",
     "output_type": "stream",
     "text": [
      "Enter the city name:                        Roorkee        \n"
     ]
    }
   ],
   "source": [
    "\"\"\"5. Create a program that takes a string as input and removes all the spaces from\n",
    "it. Print the modified string without spaces.\n",
    "\"\"\"\n",
    "Place = str(input(\"Enter the city name:\"                         ))"
   ]
  },
  {
   "cell_type": "code",
   "execution_count": 11,
   "id": "7352f0e0-ff8d-4040-8cfa-198d12a43598",
   "metadata": {},
   "outputs": [
    {
     "data": {
      "text/plain": [
       "'                       Roorkee        '"
      ]
     },
     "execution_count": 11,
     "metadata": {},
     "output_type": "execute_result"
    }
   ],
   "source": [
    "Place"
   ]
  },
  {
   "cell_type": "code",
   "execution_count": 12,
   "id": "ccd9c001-c696-4cbd-835f-a42b9f0fe417",
   "metadata": {},
   "outputs": [
    {
     "data": {
      "text/plain": [
       "'Roorkee'"
      ]
     },
     "execution_count": 12,
     "metadata": {},
     "output_type": "execute_result"
    }
   ],
   "source": [
    "Place.strip()"
   ]
  },
  {
   "cell_type": "code",
   "execution_count": null,
   "id": "e5a8242a-6e35-4f0c-8753-b65b30a1512e",
   "metadata": {},
   "outputs": [],
   "source": []
  }
 ],
 "metadata": {
  "kernelspec": {
   "display_name": "Python 3 (ipykernel)",
   "language": "python",
   "name": "python3"
  },
  "language_info": {
   "codemirror_mode": {
    "name": "ipython",
    "version": 3
   },
   "file_extension": ".py",
   "mimetype": "text/x-python",
   "name": "python",
   "nbconvert_exporter": "python",
   "pygments_lexer": "ipython3",
   "version": "3.10.8"
  }
 },
 "nbformat": 4,
 "nbformat_minor": 5
}
